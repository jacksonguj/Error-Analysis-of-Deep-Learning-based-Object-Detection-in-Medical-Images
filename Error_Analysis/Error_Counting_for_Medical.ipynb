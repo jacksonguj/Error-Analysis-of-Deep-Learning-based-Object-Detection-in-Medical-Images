{
  "nbformat": 4,
  "nbformat_minor": 0,
  "metadata": {
    "colab": {
      "provenance": [],
      "machine_shape": "hm",
      "gpuType": "T4",
      "include_colab_link": true
    },
    "kernelspec": {
      "name": "python3",
      "display_name": "Python 3"
    },
    "language_info": {
      "name": "python"
    },
    "accelerator": "GPU"
  },
  "cells": [
    {
      "cell_type": "markdown",
      "metadata": {
        "id": "view-in-github",
        "colab_type": "text"
      },
      "source": [
        "<a href=\"https://colab.research.google.com/github/JayeonKangNature/Bachelor_Project_Thesis_2023/blob/main/Error_Counting_for_Medical.ipynb\" target=\"_parent\"><img src=\"https://colab.research.google.com/assets/colab-badge.svg\" alt=\"Open In Colab\"/></a>"
      ]
    },
    {
      "cell_type": "code",
      "execution_count": null,
      "metadata": {
        "colab": {
          "base_uri": "https://localhost:8080/"
        },
        "id": "tUq_5_9SnAUB",
        "outputId": "f4f0c426-4a3b-4f42-e923-84f19b64c04a"
      },
      "outputs": [
        {
          "output_type": "stream",
          "name": "stdout",
          "text": [
            "Mounted at /content/drive/\n"
          ]
        }
      ],
      "source": [
        "# For mouting\n",
        "from google.colab import drive\n",
        "import torch\n",
        "import os\n",
        "import json\n",
        "\n",
        "drive.mount('/content/drive/', force_remount=True)"
      ]
    },
    {
      "cell_type": "code",
      "source": [
        "import torch\n",
        "import os\n",
        "# Base path\n",
        "\n",
        "Annots_Path = '/content/drive/MyDrive/BSc_Project/Main_code_folder/TIMOTHY/val_300.json'\n",
        "import json\n",
        "import random\n",
        "\n",
        "# Load the COCO JSON file\n",
        "with open(Annots_Path, 'r') as f:\n",
        "    coco_data = json.load(f)\n",
        "\n",
        "import json\n",
        "import random\n",
        "\n",
        "# Load the COCO JSON file\n",
        "with open(Annots_Path, 'r') as f:\n",
        "    coco_data = json.load(f)\n",
        "Collect_image_ids = list(coco_data.keys())\n",
        "Collect_image_ann = list(coco_data.values())\n",
        "\n",
        "Test_ = dict(zip(Collect_image_ids, Collect_image_ann))\n",
        "with open('test.json', 'w') as f:\n",
        "    json.dump(Test_, f)\n",
        "\n",
        "with open('test.json', 'r') as test:\n",
        "    Test_coco_data = json.load(test)"
      ],
      "metadata": {
        "id": "wpyRA8q0o-bS"
      },
      "execution_count": null,
      "outputs": []
    },
    {
      "cell_type": "code",
      "source": [
        "import json\n",
        "from pathlib import Path\n",
        "from typing import Tuple\n",
        "\n",
        "import pandas as pd\n",
        "\n",
        "DATA_PATH = Path()\n",
        "images_path = Path(\"/content/drive/MyDrive/BSc_Project/Val_300/images\")\n",
        "\n",
        "def load_dataset(\n",
        "    data_path: Path = DATA_PATH,\n",
        ") -> Tuple[pd.DataFrame, pd.DataFrame]:\n",
        "    \"\"\"Read the COCO style json dataset and transform it into convenient DataFrames\n",
        "    :return (images_df, targets_df):\n",
        "        images_df: Columns \"image_id\" and \"file_name\"\n",
        "        targets_df: Columns\n",
        "            \"target_id\", \"image_id\", \"xmin\", \"ymin\", \"xmax\", \"ymax\", \"label_id\"\n",
        "    \"\"\"\n",
        "    annotations_path = '/content/drive/MyDrive/BSc_Project/Main_code_folder/TIMOTHY/val_300.json'\n",
        "\n",
        "    with open(annotations_path, \"r\") as f:\n",
        "        targets_json = json.load(f)\n",
        "\n",
        "    images_df = pd.DataFrame.from_records(targets_json[\"images\"])\n",
        "    images_df.rename(columns={\"id\": \"image_id\"}, inplace=True)\n",
        "    images_df = images_df[[\"image_id\", \"file_name\"]]\n",
        "\n",
        "    targets_df = pd.DataFrame.from_records(targets_json[\"annotations\"])\n",
        "    targets_df[[\"xmin\", \"ymin\", \"w\", \"h\"]] = targets_df[\"bbox\"].tolist()\n",
        "    targets_df[\"xmax\"] = targets_df[\"xmin\"] + targets_df[\"w\"]\n",
        "    targets_df[\"ymax\"] = targets_df[\"ymin\"] + targets_df[\"h\"]\n",
        "    targets_df.reset_index(inplace=True)\n",
        "    targets_df.rename(\n",
        "        columns={\"index\": \"target_id\", \"category_id\": \"label_id\"}, inplace=True\n",
        "    )\n",
        "    targets_df = targets_df[\n",
        "        [\"target_id\", \"image_id\", \"label_id\", \"xmin\", \"ymin\", \"xmax\", \"ymax\"]\n",
        "    ]\n",
        "\n",
        "    return images_df, targets_df\n",
        "\n",
        "images_df, targets_df = load_dataset(DATA_PATH)"
      ],
      "metadata": {
        "id": "yTyS8MVGoHKP"
      },
      "execution_count": null,
      "outputs": []
    },
    {
      "cell_type": "code",
      "source": [
        "print(images_df)"
      ],
      "metadata": {
        "colab": {
          "base_uri": "https://localhost:8080/"
        },
        "id": "YVNUayvjqPba",
        "outputId": "fe96a063-ca00-4ca5-ea98-f84c227590bb"
      },
      "execution_count": null,
      "outputs": [
        {
          "output_type": "stream",
          "name": "stdout",
          "text": [
            "     image_id                      file_name\n",
            "0           1  cju7bb3ss1uoo0755pmhyco7t.jpg\n",
            "1           2  cju7bc95p1mdm0817yqj5jc6j.jpg\n",
            "2           3  cju7bd1qu1mx409877xjxibox.jpg\n",
            "3           4  cju7bduyq1rjf08719giru9ho.jpg\n",
            "4           5  cju7bf1lp1shi081835vs84lc.jpg\n",
            "..        ...                            ...\n",
            "295       296  cju8b2rmgr52s0801p54eyflx.jpg\n",
            "296       297  cju8bj2ssrmlm0871gc2ug2rs.jpg\n",
            "297       298  cju8c1a0ws7o208181c6lbsom.jpg\n",
            "298       299  cju8cgi2kspp308011nxdtjp6.jpg\n",
            "299       300  cju8doa16u5gh0818w1ywda3q.jpg\n",
            "\n",
            "[300 rows x 2 columns]\n"
          ]
        }
      ]
    },
    {
      "cell_type": "code",
      "source": [
        "print(targets_df)"
      ],
      "metadata": {
        "colab": {
          "base_uri": "https://localhost:8080/"
        },
        "id": "zgGPKMg5rMD2",
        "outputId": "47c3735c-9cf0-4098-c176-058976130aa3"
      },
      "execution_count": null,
      "outputs": [
        {
          "output_type": "stream",
          "name": "stdout",
          "text": [
            "     target_id  image_id  label_id  xmin  ymin  xmax  ymax\n",
            "0            0         1         1    79   128   341   354\n",
            "1            1         2         1   236   198   420   425\n",
            "2            2         3         1   158   157   355   352\n",
            "3            3         4         1   247   221   466   444\n",
            "4            4         5         1    24   108   424   530\n",
            "..         ...       ...       ...   ...   ...   ...   ...\n",
            "310        310       296         1   172   114   476   364\n",
            "311        311       297         1   274   184   311   222\n",
            "312        312       298         1   138     0   624   341\n",
            "313        313       299         1   373   242   487   357\n",
            "314        314       300         1     0     0   621   528\n",
            "\n",
            "[315 rows x 7 columns]\n"
          ]
        }
      ]
    },
    {
      "cell_type": "code",
      "source": [
        "import pandas as pd\n",
        "data = pd.read_csv(\"/content/drive/MyDrive/BSc_Project/Main_code_folder/TIMOTHY/preds_df_faster_medical.csv\")\n",
        "preds_df = data\n"
      ],
      "metadata": {
        "id": "ZFcq83-SqSqB"
      },
      "execution_count": null,
      "outputs": []
    },
    {
      "cell_type": "code",
      "source": [
        "print(preds_df)"
      ],
      "metadata": {
        "id": "67emnKhL1w4w",
        "outputId": "72527ab3-65dc-459c-bdb7-146171fa7920",
        "colab": {
          "base_uri": "https://localhost:8080/"
        }
      },
      "execution_count": null,
      "outputs": [
        {
          "output_type": "stream",
          "name": "stdout",
          "text": [
            "     Unnamed: 0  pred_id  image_id  label_id        xmin        ymin  \\\n",
            "0             0        0         1         1   81.019051  118.619362   \n",
            "1             1        1         2         1  211.590256  128.473343   \n",
            "2             2        2         2         1  176.756439  141.900314   \n",
            "3             3        3         2         1  436.286530  109.935310   \n",
            "4             4        4         3         1  155.735779  149.703842   \n",
            "..          ...      ...       ...       ...         ...         ...   \n",
            "714         714      714       299         1  361.220520  241.604340   \n",
            "715         715      715       300         1  492.387543  194.344894   \n",
            "716         716      716       300         1   42.623508  130.484741   \n",
            "717         717      717       300         1  204.823456   37.226707   \n",
            "718         718      718       300         1  357.373169  146.806686   \n",
            "\n",
            "           xmax        ymax     score  \n",
            "0    339.983803  336.566750  0.951372  \n",
            "1    445.292389  429.909988  0.916277  \n",
            "2    383.872955  263.304352  0.181634  \n",
            "3    517.155945  284.983009  0.083655  \n",
            "4    344.311371  345.345673  0.998756  \n",
            "..          ...         ...       ...  \n",
            "714  485.740082  356.371887  0.997877  \n",
            "715  597.463074  345.490448  0.995557  \n",
            "716  430.159000  529.000000  0.884642  \n",
            "717  346.088226  201.092613  0.850541  \n",
            "718  598.329773  523.446335  0.563002  \n",
            "\n",
            "[719 rows x 9 columns]\n"
          ]
        }
      ]
    },
    {
      "cell_type": "code",
      "source": [
        "import pandas as pd\n",
        "data = pd.read_csv(\"/content/drive/MyDrive/BSc_Project/Main_code_folder/TIMOTHY/preds_df_yolo_medical.csv\")\n",
        "preds_df_yolo = data"
      ],
      "metadata": {
        "id": "U8WsUXYYvHJq"
      },
      "execution_count": null,
      "outputs": []
    },
    {
      "cell_type": "code",
      "source": [
        "# Code from gist: https://gist.github.com/bepuca/8014e9b40e92ecc99574d9510a8608f2\n",
        "from typing import Dict, Set, Tuple\n",
        "\n",
        "import numpy as np\n",
        "import pandas as pd\n",
        "import torch\n",
        "import torchvision\n",
        "\n",
        "TARGETS_DF_COLUMNS = [\n",
        "    \"target_id\",\n",
        "    \"image_id\",\n",
        "    \"label_id\",\n",
        "    \"xmin\",\n",
        "    \"ymin\",\n",
        "    \"xmax\",\n",
        "    \"ymax\",\n",
        "]\n",
        "PREDS_DF_COLUMNS = [\n",
        "    \"pred_id\",\n",
        "    \"image_id\",\n",
        "    \"label_id\",\n",
        "    \"xmin\",\n",
        "    \"ymin\",\n",
        "    \"xmax\",\n",
        "    \"ymax\",\n",
        "    \"score\",\n",
        "]\n",
        "ERRORS_DF_COLUMNS = [\"pred_id\", \"target_id\", \"error_type\"]\n",
        "\n",
        "BACKGROUND_IOU_THRESHOLD = 0.1\n",
        "FOREGROUND_IOU_THRESHOLD = 0.5\n",
        "\n",
        "\n",
        "class ErrorType:\n",
        "    OK = \"correct\"  # pred -> IoU > foreground; target_label == pred_label; highest score\n",
        "    CLS = \"classification\"  # pred -> IoU > foreground; target_label != pred_label\n",
        "    LOC = \"localization\"  # pred -> background < IoU < foreground; target_label == pred_label\n",
        "    CLS_LOC = \"cls & loc\"  # pred -> background < IoU < foreground; target_label != pred_label\n",
        "    DUP = \"duplicate\"  # pred -> background < IoU < foreground; target_label != pred_label\n",
        "    BKG = \"background\"  # pred -> IoU > foreground; target_label == pred_label; no highest score\n",
        "    MISS = \"missed\"  # target -> No pred with Iou > background\n",
        "\n",
        "\n",
        "def classify_predictions_errors(\n",
        "    targets_df: pd.DataFrame,\n",
        "    preds_df: pd.DataFrame,\n",
        "    iou_background: float = BACKGROUND_IOU_THRESHOLD,\n",
        "    iou_foreground: float = FOREGROUND_IOU_THRESHOLD,\n",
        ") -> pd.DataFrame:\n",
        "    \"\"\"Classify predictions\n",
        "\n",
        "    We assume model is right as much as possible. Thus, in case of doubt\n",
        "    (i.e matching two targets), a prediction will be first considered\n",
        "    ErrorType.LOC before ErrorType.CLS.\n",
        "\n",
        "    The error definition credit belongs to the following paper (refer to it for\n",
        "    conceptual details):\n",
        "        TIDE: A General Toolbox for Identifying Object Detection Errors\n",
        "        https://arxiv.org/abs/2008.08115\n",
        "\n",
        "    :param targets_df: DataFrame with all targets for all images with TARGETS_DF_COLUMNS.\n",
        "    :param preds_df: DataFrame with all predictions for all images with PREDS_DF_COLUMNS.\n",
        "    :param iou_background: Minimum IoU for a prediction not to be considered background.\n",
        "    :param iou_foreground: Minimum IoU for a prediction to be considered foreground.\n",
        "    :return errors_df: DataFrame with all error information with ERRORS_DF_COLUMNS\n",
        "    \"\"\"\n",
        "\n",
        "    # Provide clarity on expectations and avoid confusing errors down the line\n",
        "    assert (set(TARGETS_DF_COLUMNS) - set(targets_df.columns)) == set()\n",
        "    assert (set(PREDS_DF_COLUMNS) - set(preds_df.columns)) == set()\n",
        "\n",
        "    pred2error = dict()  # {pred_id: ErrorType}\n",
        "    target2pred = (\n",
        "        dict()\n",
        "    )  # {target_id: pred_id}, require iou > iou_foreground & max score\n",
        "    pred2target = dict()  # {pred_id: target_id}, require iou >= iou_background\n",
        "    missed_targets = set()  # {target_id}\n",
        "\n",
        "    # Higher scoring preds take precedence when multiple fulfill criteria\n",
        "    preds_df = preds_df.sort_values(by=\"score\", ascending=False)\n",
        "\n",
        "    for image_id, im_preds_df in preds_df.groupby(\"image_id\"):\n",
        "        # Need to reset index to access dfs with same idx we access\n",
        "        #   IoU matrix down the line\n",
        "        im_targets_df = targets_df.query(\"image_id == @image_id\").reset_index(\n",
        "            drop=True\n",
        "        )\n",
        "        im_preds_df = im_preds_df.reset_index(drop=True)\n",
        "\n",
        "        if im_targets_df.empty:\n",
        "            pred2error = {**pred2error, **_process_empty_image(im_preds_df)}\n",
        "        else:\n",
        "            iou_matrix, iou_label_match_matrix = _compute_iou_matrices(\n",
        "                im_targets_df, im_preds_df\n",
        "            )\n",
        "\n",
        "            # Iterate over all predictions. Higher scores first\n",
        "            for pred_idx in range(len(im_preds_df)):\n",
        "                match_found = _match_pred_to_target_with_same_label(\n",
        "                    pred_idx,\n",
        "                    pred2error,\n",
        "                    pred2target,\n",
        "                    target2pred,\n",
        "                    iou_label_match_matrix,\n",
        "                    im_targets_df,\n",
        "                    im_preds_df,\n",
        "                    iou_background,\n",
        "                    iou_foreground,\n",
        "                )\n",
        "                if match_found:\n",
        "                    continue\n",
        "\n",
        "                _match_pred_wrong_label_or_background(\n",
        "                    pred_idx,\n",
        "                    pred2error,\n",
        "                    pred2target,\n",
        "                    iou_matrix,\n",
        "                    im_targets_df,\n",
        "                    im_preds_df,\n",
        "                    iou_background,\n",
        "                    iou_foreground,\n",
        "                )\n",
        "\n",
        "    missed_targets = _find_missed_targets(targets_df, pred2target)\n",
        "    errors_df = _format_errors_as_dataframe(\n",
        "        pred2error, pred2target, missed_targets\n",
        "    )\n",
        "    return errors_df[list(ERRORS_DF_COLUMNS)]\n",
        "\n",
        "\n",
        "def _process_empty_image(im_preds_df: pd.DataFrame) -> Dict[int, str]:\n",
        "    \"\"\"In an image without targets, all predictions represent a background error\"\"\"\n",
        "    return {\n",
        "        pred_id: ErrorType.BKG for pred_id in im_preds_df[\"pred_id\"].unique()\n",
        "    }\n",
        "\n",
        "\n",
        "def _compute_iou_matrices(\n",
        "    im_targets_df: pd.DataFrame, im_preds_df: pd.DataFrame\n",
        ") -> Tuple[np.array, np.array]:\n",
        "    \"\"\"Compute IoU matrix between all targets and preds in the image\n",
        "\n",
        "    :param im_targets_df: DataFrame with targets for the image being processed.\n",
        "    :param im_preds_df: DataFrame with preds for the image being processed.\n",
        "    :return:\n",
        "        iou_matrix: Matrix of size (n_targets, n_preds) with IoU between all\n",
        "            targets & preds\n",
        "        iou_label_match_matrix: Same as `iou_matrix` but 0 for all target-pred\n",
        "            pair with different labels (i.e. IoU kept only if labels match).\n",
        "    \"\"\"\n",
        "    # row indexes point to targets, column indexes to predictions\n",
        "    iou_matrix = iou_matrix = torchvision.ops.box_iou(\n",
        "        torch.from_numpy(\n",
        "            im_targets_df[[\"xmin\", \"ymin\", \"xmax\", \"ymax\"]].values\n",
        "        ),\n",
        "        torch.from_numpy(im_preds_df[[\"xmin\", \"ymin\", \"xmax\", \"ymax\"]].values),\n",
        "    ).numpy()\n",
        "\n",
        "    # boolean matrix with True iff target and pred have the same label\n",
        "    label_match_matrix = (\n",
        "        im_targets_df[\"label_id\"].values[:, None]\n",
        "        == im_preds_df[\"label_id\"].values[None, :]\n",
        "    )\n",
        "    # IoU matrix with 0 in all target-pred pairs that have different label\n",
        "    iou_label_match_matrix = iou_matrix * label_match_matrix\n",
        "    return iou_matrix, iou_label_match_matrix\n",
        "\n",
        "\n",
        "def _match_pred_to_target_with_same_label(\n",
        "    pred_idx: int,\n",
        "    pred2error: Dict[int, str],\n",
        "    pred2target: Dict[int, int],\n",
        "    target2pred: Dict[int, int],\n",
        "    iou_label_match_matrix: np.array,\n",
        "    im_targets_df: pd.DataFrame,\n",
        "    im_preds_df: pd.DataFrame,\n",
        "    iou_background: float,\n",
        "    iou_foreground: float,\n",
        ") -> bool:\n",
        "    \"\"\"Try to match `pred_idx` to a target with the same label and identify error (if any)\n",
        "\n",
        "    If there is a match `pred2error`, `pred2target` and (maybe) `target2pred`\n",
        "    are modified in place.\n",
        "    Possible error types found in this function:\n",
        "        ErrorType.OK, ErrorType.DUP, ErrorType.LOC\n",
        "\n",
        "    :param pred_idx: Index of prediction based on score (index 0 is maximum score for image).\n",
        "    :param pred2error: Dict mapping pred_id to error type.\n",
        "    :param pred2target: Dict mapping pred_id to target_id (if match found with iou above background)\n",
        "    :param target2pred: Dict mapping target_id to pred_id to pred considered correct (if any).\n",
        "    :param iou_label_match_matrix: Matrix with size [n_targets, n_preds] with IoU between all preds\n",
        "        and targets that share label (i.e. IoU = 0 if there is a label missmatch).\n",
        "    :param im_targets_df: DataFrame with targets for the image being processed.\n",
        "    :param im_preds_df: DataFrame with preds for the image being processed.\n",
        "    :param iou_background: Minimum IoU to consider a pred not background for target.\n",
        "    :param iou_foreground: Minimum IoU to consider a pred foreground for a target.\n",
        "    :return matched: Whether or not there was a match and we could identify the pred error.\n",
        "    \"\"\"\n",
        "    # Find highest overlapping target for pred processed\n",
        "    target_idx = np.argmax(iou_label_match_matrix[:, pred_idx])\n",
        "    iou = np.max(iou_label_match_matrix[:, pred_idx])\n",
        "    target_id = im_targets_df.at[target_idx, \"target_id\"]\n",
        "    pred_id = im_preds_df.at[pred_idx, \"pred_id\"]\n",
        "\n",
        "    matched = False\n",
        "    if iou >= iou_foreground:\n",
        "        pred2target[pred_id] = target_id\n",
        "        # Check if another prediction is already the match for target to\n",
        "        #   identify duplicates\n",
        "        if target2pred.get(target_id) is None:\n",
        "            target2pred[target_id] = pred_id\n",
        "            pred2error[pred_id] = ErrorType.OK\n",
        "        else:\n",
        "            pred2error[pred_id] = ErrorType.DUP\n",
        "        matched = True\n",
        "\n",
        "    elif iou_background <= iou < iou_foreground:\n",
        "        pred2target[pred_id] = target_id\n",
        "        pred2error[pred_id] = ErrorType.LOC\n",
        "        matched = True\n",
        "    return matched\n",
        "\n",
        "\n",
        "def _match_pred_wrong_label_or_background(\n",
        "    pred_idx: int,\n",
        "    pred2error: Dict[int, str],\n",
        "    pred2target: Dict[int, int],\n",
        "    iou_matrix: np.array,\n",
        "    im_targets_df: pd.DataFrame,\n",
        "    im_preds_df: pd.DataFrame,\n",
        "    iou_background: float,\n",
        "    iou_foreground: float,\n",
        ") -> None:\n",
        "    \"\"\"Try to match `pred_idx` to a target (with different label) and identify error\n",
        "\n",
        "    If there is a match `pred2error` and  (maybe) `pred2target` are modified in place.\n",
        "    Possible error types found in this function:\n",
        "        ErrorType.BKG, ErrorType.CLS, ErrorType.CLS_LOC\n",
        "\n",
        "    :param pred_idx: Index of prediction based on score (index 0 is maximum score for image).\n",
        "    :param pred2error: Dict mapping pred_id to error type.\n",
        "    :param pred2target: Dict mapping pred_id to target_id (if match found with iou above background)\n",
        "    :param target2pred: Dict mapping target_id to pred_id to pred considered correct (if any).\n",
        "    :param iou: Matrix with size [n_targets, n_preds] with IoU between all preds and targets.\n",
        "    :param im_targets_df: DataFrame with targets for the image being processed.\n",
        "    :param im_preds_df: DataFrame with preds for the image being processed.\n",
        "    :param iou_background: Minimum IoU to consider a pred not background for target.\n",
        "    :param iou_foreground: Minimum IoU to consider a pred foreground for a target.\n",
        "    \"\"\"\n",
        "    # Find highest overlapping target for pred processed\n",
        "    target_idx = np.argmax(iou_matrix[:, pred_idx])\n",
        "    iou = np.max(iou_matrix[:, pred_idx])\n",
        "    target_id = im_targets_df.at[target_idx, \"target_id\"]\n",
        "    pred_id = im_preds_df.at[pred_idx, \"pred_id\"]\n",
        "\n",
        "    if iou < iou_background:\n",
        "        pred2error[pred_id] = ErrorType.BKG\n",
        "\n",
        "    # preds with correct label do not get here. Thus, no need to check if label\n",
        "    #   is wrong\n",
        "    elif iou >= iou_foreground:\n",
        "        pred2target[pred_id] = target_id\n",
        "        pred2error[pred_id] = ErrorType.CLS\n",
        "    else:\n",
        "        # No match to target, as we cannot be sure model was remotely close to\n",
        "        #   getting it right\n",
        "        pred2error[pred_id] = ErrorType.CLS_LOC\n",
        "\n",
        "\n",
        "def _find_missed_targets(\n",
        "    im_targets_df: pd.DataFrame, pred2target: Dict[int, int]\n",
        ") -> Set[int]:\n",
        "    \"\"\"Find targets in the processed image that were not matched by any prediction\n",
        "\n",
        "    :param im_targets_df: DataFrame with targets for the image being processed.\n",
        "    :param pred2target: Dict mapping pred_id to target_id (if match found with\n",
        "        iou above background)\n",
        "    :return missed_targets: Set of all the target ids that were missed\n",
        "\n",
        "    \"\"\"\n",
        "    matched_targets = [t for t in pred2target.values() if t is not None]\n",
        "    missed_targets = set(im_targets_df[\"target_id\"]) - set(matched_targets)\n",
        "    return missed_targets\n",
        "\n",
        "\n",
        "def _format_errors_as_dataframe(\n",
        "    pred2error: Dict[int, str],\n",
        "    pred2target: Dict[int, int],\n",
        "    missed_targets: Set[int],\n",
        ") -> pd.DataFrame:\n",
        "    \"\"\"Use the variables used to classify errors to format them in a ready to use DataFrame\n",
        "\n",
        "    :param pred2error: Dict mapping pred_id to error type.\n",
        "    :param pred2target: Dict mapping pred_id to target_id (if match found with\n",
        "        iou above background)\n",
        "    :param missed_targets: Set of all the target ids that were missed\n",
        "    :return: DataFrame with columns ERRORS_DF_COLUMNS\n",
        "    \"\"\"\n",
        "    errors_df = pd.DataFrame.from_records(\n",
        "        [\n",
        "            {\"pred_id\": pred_id, \"error_type\": error}\n",
        "            for pred_id, error in pred2error.items()\n",
        "        ]\n",
        "    )\n",
        "    errors_df[\"target_id\"] = None\n",
        "    errors_df.set_index(\"pred_id\", inplace=True)\n",
        "    for pred_id, target_id in pred2target.items():\n",
        "        errors_df.at[pred_id, \"target_id\"] = target_id\n",
        "\n",
        "    missed_df = pd.DataFrame(\n",
        "        {\n",
        "            \"pred_id\": None,\n",
        "            \"error_type\": ErrorType.MISS,\n",
        "            \"target_id\": list(missed_targets),\n",
        "        }\n",
        "    )\n",
        "    errors_df = pd.concat(\n",
        "        [errors_df.reset_index(), missed_df], ignore_index=True\n",
        "    ).astype(\n",
        "        {\"pred_id\": float, \"target_id\": float, \"error_type\": pd.StringDtype()}\n",
        "    )\n",
        "    return errors_df"
      ],
      "metadata": {
        "id": "pl2h6o1hqlqK"
      },
      "execution_count": null,
      "outputs": []
    },
    {
      "cell_type": "code",
      "source": [
        "errors_df = classify_predictions_errors(targets_df, preds_df)"
      ],
      "metadata": {
        "id": "DzE1W4CaqpdF"
      },
      "execution_count": null,
      "outputs": []
    },
    {
      "cell_type": "code",
      "source": [
        "errors_df_yolo = classify_predictions_errors(targets_df, preds_df_yolo)"
      ],
      "metadata": {
        "id": "0bcVrLkNvON6"
      },
      "execution_count": null,
      "outputs": []
    },
    {
      "cell_type": "code",
      "source": [
        "print(errors_df)"
      ],
      "metadata": {
        "colab": {
          "base_uri": "https://localhost:8080/"
        },
        "id": "3T2-ntGKqqqj",
        "outputId": "4fdb4c98-73cd-4213-8640-e790a0270f86"
      },
      "execution_count": null,
      "outputs": [
        {
          "output_type": "stream",
          "name": "stdout",
          "text": [
            "     pred_id  target_id    error_type\n",
            "0        0.0        0.0       correct\n",
            "1        1.0        1.0       correct\n",
            "2        2.0        1.0  localization\n",
            "3        3.0        NaN    background\n",
            "4        4.0        2.0       correct\n",
            "..       ...        ...           ...\n",
            "721      NaN      261.0        missed\n",
            "722      NaN       16.0        missed\n",
            "723      NaN      276.0        missed\n",
            "724      NaN      184.0        missed\n",
            "725      NaN       29.0        missed\n",
            "\n",
            "[726 rows x 3 columns]\n"
          ]
        }
      ]
    },
    {
      "cell_type": "code",
      "source": [
        "print(errors_df_yolo)"
      ],
      "metadata": {
        "colab": {
          "base_uri": "https://localhost:8080/"
        },
        "id": "OONUf5hXvTkl",
        "outputId": "1d144be1-df9a-4eed-fa03-f22693076db8"
      },
      "execution_count": null,
      "outputs": [
        {
          "output_type": "stream",
          "name": "stdout",
          "text": [
            "      pred_id  target_id  error_type\n",
            "0      2166.0        0.0     correct\n",
            "1      2167.0        NaN  background\n",
            "2      2168.0        NaN  background\n",
            "3      2169.0        NaN  background\n",
            "4      2170.0        NaN  background\n",
            "...       ...        ...         ...\n",
            "2194      NaN      197.0      missed\n",
            "2195      NaN      294.0      missed\n",
            "2196      NaN      276.0      missed\n",
            "2197      NaN      154.0      missed\n",
            "2198      NaN       29.0      missed\n",
            "\n",
            "[2199 rows x 3 columns]\n"
          ]
        }
      ]
    },
    {
      "cell_type": "code",
      "source": [
        "errors_df[\"error_type\"].value_counts()"
      ],
      "metadata": {
        "colab": {
          "base_uri": "https://localhost:8080/"
        },
        "id": "rs00Yzz_q8-x",
        "outputId": "e10d9f52-70a9-4bc8-d98c-53dae268638a"
      },
      "execution_count": null,
      "outputs": [
        {
          "output_type": "execute_result",
          "data": {
            "text/plain": [
              "correct         279\n",
              "localization    221\n",
              "background      219\n",
              "missed            7\n",
              "Name: error_type, dtype: Int64"
            ]
          },
          "metadata": {},
          "execution_count": 11
        }
      ]
    },
    {
      "cell_type": "code",
      "source": [
        "errors_df_yolo[\"error_type\"].value_counts()"
      ],
      "metadata": {
        "colab": {
          "base_uri": "https://localhost:8080/"
        },
        "id": "CnLt13y5z7hQ",
        "outputId": "911df2be-ad0a-4bd8-9019-7e9c9fe22260"
      },
      "execution_count": null,
      "outputs": [
        {
          "output_type": "execute_result",
          "data": {
            "text/plain": [
              "background      1382\n",
              "localization     503\n",
              "correct          273\n",
              "duplicate         35\n",
              "missed             6\n",
              "Name: error_type, dtype: Int64"
            ]
          },
          "metadata": {},
          "execution_count": 24
        }
      ]
    },
    {
      "cell_type": "code",
      "source": [
        "import pandas as pd\n",
        "\n",
        "# Assuming you have a DataFrame called preds_df\n",
        "\n",
        "# Specify the file path and name for the CSV file\n",
        "file_path = \"/content/drive/MyDrive/BSc_Project/Main_code_folder/TIMOTHY/errors_df_faster_medical.csv\"\n",
        "\n",
        "# Save the DataFrame as a CSV file\n",
        "errors_df.to_csv(file_path, index=False)"
      ],
      "metadata": {
        "id": "oUxAFP1yiyQz"
      },
      "execution_count": null,
      "outputs": []
    },
    {
      "cell_type": "code",
      "source": [
        "import pandas as pd\n",
        "\n",
        "# Assuming you have a DataFrame called preds_df\n",
        "\n",
        "# Specify the file path and name for the CSV file\n",
        "file_path = \"/content/drive/MyDrive/BSc_Project/Main_code_folder/TIMOTHY/errors_df_yolo_medical.csv\"\n",
        "\n",
        "# Save the DataFrame as a CSV file\n",
        "errors_df_yolo.to_csv(file_path, index=False)"
      ],
      "metadata": {
        "id": "VJ5QECTUi9q8"
      },
      "execution_count": null,
      "outputs": []
    }
  ]
}
